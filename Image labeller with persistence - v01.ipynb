{
 "cells": [
  {
   "cell_type": "markdown",
   "metadata": {},
   "source": [
    "#Image labeller with persistence (example)\n",
    "\n",
    "This notebook demonstrates using the image labelling tool as an IPython Notebook plugin.\n",
    "\n",
    "The kernel-side widget model is defined in the `ImageLabellingTool` class in the `labelling_tool` module."
   ]
  },
  {
   "cell_type": "code",
   "execution_count": null,
   "metadata": {
    "collapsed": false
   },
   "outputs": [],
   "source": [
    "from IPython.display import display\n",
    "\n",
    "import labelling_tool, labelling_tool_ipython"
   ]
  },
  {
   "cell_type": "markdown",
   "metadata": {},
   "source": [
    "###Client side widget\n",
    "\n",
    "Here is the client side widget implementation:"
   ]
  },
  {
   "cell_type": "code",
   "execution_count": null,
   "metadata": {
    "collapsed": false
   },
   "outputs": [],
   "source": [
    "%%javascript\n",
    "\n",
    "require([\"widgets/js/widget\",\n",
    "         \"widgets/js/manager\",\n",
    "         \"http://d3js.org/d3.v3.min.js\",\n",
    "         \"static/labelling_tool.js\"], function(widget, manager){\n",
    "    /*\n",
    "    Labeling tool view; links to the server side data structures\n",
    "     */\n",
    "    var ImageLabellingToolView = widget.DOMWidgetView.extend({\n",
    "        render: function() {\n",
    "            var self = this;\n",
    "\n",
    "            // Register a custom IPython widget message handler for receiving messages from the Kernel\n",
    "            this.model.on('msg:custom', this._on_custom_msg, this);\n",
    "\n",
    "\n",
    "            // Get label classes, tool dimensions, and image ID set and initial image ID from the kernel\n",
    "            var label_classes = self.model.get(\"label_classes\");\n",
    "            var tool_width = self.model.get(\"tool_width_\");\n",
    "            var tool_height = self.model.get(\"tool_height_\");\n",
    "            var image_ids = self.model.get('image_ids_');\n",
    "            var initial_image_id = self.model.get('current_image_id_');\n",
    "\n",
    "\n",
    "            // Callback function to allow the labelling tool to request an image\n",
    "            var request_image_descriptor = function(image_id_str) {\n",
    "                // Send a 'request_image_descriptor' message to the kernel requesting the\n",
    "                // image identified by `image_id_str`\n",
    "                self.send({msg_type: 'request_image_descriptor', image_id: image_id_str});\n",
    "            };\n",
    "\n",
    "            // Callback function to allow the labelling tool to send modified label data to the kernel\n",
    "            var send_label_header = function(label_header) {\n",
    "                // Send a 'label_header' message to the kernel, along with modified label data\n",
    "                self.send({msg_type: 'label_header', label_header: label_header});\n",
    "            };\n",
    "\n",
    "            // Create the labelling tool\n",
    "            self._labeling_tool = LabellingTool();\n",
    "            // Initialise it, placing it into the widget element (`this.$el`).\n",
    "            // Also give it the label classes, tool dimensions, image ID set, initial image ID and the callbacks above\n",
    "            self._labeling_tool.initialise(this.$el, label_classes, tool_width, tool_height,\n",
    "                                            image_ids, initial_image_id, request_image_descriptor, send_label_header);\n",
    "        },\n",
    "\n",
    "\n",
    "        _on_custom_msg: function(msg) {\n",
    "            // Received a custom message from the kernel\n",
    "            if (msg.msg_type === \"set_image\") {\n",
    "                // 'set_image' message\n",
    "                var in_image = msg.image;\n",
    "                // Build the image descriptor to give to the labelling tool\n",
    "                var image = {\n",
    "                    width: in_image.width,\n",
    "                    height: in_image.height,\n",
    "                    href: in_image.href,\n",
    "                    label_header: in_image.label_header\n",
    "                };\n",
    "                // Make the labelling tool switch images\n",
    "                this._labeling_tool.setImage(image);\n",
    "            }\n",
    "        }\n",
    "    });\n",
    "\n",
    "    // Register the ImageLabelingToolView with the IPython widget manager.\n",
    "    manager.WidgetManager.register_widget_view('ImageLabellingToolView', ImageLabellingToolView);\n",
    "    console.log(\"registered\");\n",
    "});\n"
   ]
  },
  {
   "cell_type": "markdown",
   "metadata": {},
   "source": [
    "##Example tool"
   ]
  },
  {
   "cell_type": "code",
   "execution_count": null,
   "metadata": {
    "collapsed": false
   },
   "outputs": [],
   "source": [
    "# Specify our 3 label classes.\n",
    "# `LabelClass` parameters are: symbolic name, human readable name for UI, and RGB colour as list\n",
    "label_classes = [labelling_tool.LabelClass('tree', 'Trees', [0, 255, 192]),\n",
    "                 labelling_tool.LabelClass('building', 'Buldings', [255, 128, 0]),\n",
    "                 labelling_tool.LabelClass('lake', 'Lake', [0, 128, 255]),\n",
    "                 ]\n",
    "\n",
    "# Define the tool dimensions\n",
    "TOOL_WIDTH, TOOL_HEIGHT = 980, 480\n",
    "\n",
    "# Load in .JPG images from the 'images' directory.\n",
    "labelled_images = labelling_tool.PersistentLabelledImage.for_directory('images', image_filename_pattern='*.jpg')\n",
    "print 'Loaded {0} images'.format(len(labelled_images))\n",
    "\n",
    "# Create the labelling tool IPython widget and display it\n",
    "labeller = labelling_tool_ipython.ImageLabellingTool(labelled_images=labelled_images, label_classes=label_classes,\n",
    "                                                     tool_width=TOOL_WIDTH, tool_height=TOOL_HEIGHT)\n",
    "\n",
    "display(labeller)"
   ]
  },
  {
   "cell_type": "markdown",
   "metadata": {},
   "source": [
    "###Instructions for use\n",
    "\n",
    "To navigate between images:\n",
    "\n",
    "- Using the left and right arrows to navigate the images one by one\n",
    "- Enter a number in the box at the top to navigate to a specific image\n",
    "\n",
    "To label regions of the image:\n",
    "\n",
    "- **Drawing regions onto the image:**\n",
    "  - Click the *Draw poly* button\n",
    "  - Within the image pane, left-click to draw polygonal corners of your region\n",
    "  - When you have finished the region, right-click to stop\n",
    "  - You are still in *draw poly* mode, so you can start left-clicking again to draw the next region\n",
    "  - To exit *draw poly* mode, right-click a second time.\n",
    "  - If you make a mistake, delete the region and re-draw it; see below\n",
    "- **Selecting regions:**\n",
    "  - Selected regions have a red outline, yellow otherwise\n",
    "  - If only *one* region is selected, clicking the *Draw poly* button will allow you to modify it; you will go back to *draw poly* mode\n",
    "  - To select a different region, click the *Select* button and choose a different region by clicking on it. Multiple regions can be selected by holding *SHIFT* while clicking.\n",
    "- **Deleting regions:**\n",
    "  - Select regions using the select tool (see above)\n",
    "  - Click the wastebin button to delete them; you will be asked for confirmation\n",
    "- **Changing the label of a region:**\n",
    "  - Select regions using the select tool (see above)\n",
    "  - Use the drop-down (normally reads *UNCLASSIFIED*) within the *Labels* section to change the label\n",
    "- **If the coloured regions are obscuring parts of the image that you need to see:**\n",
    "  - Within the *Labels* section, click the *Hide labels* checkbox to hide the labels\n",
    "  - Uncheck it to show them afterwards\n",
    "- **When you are done:**\n",
    "  - When you are satisfied that you have marked out all of the regions of interest and that they are correctly labelled, click the *Finished* checkbox within the *Current image* section. This will mark the image as finished within the system."
   ]
  },
  {
   "cell_type": "markdown",
   "metadata": {},
   "source": [
    "### Show the label data\n",
    "\n",
    "To show the label data in JSON form, execute the code cell below:"
   ]
  },
  {
   "cell_type": "code",
   "execution_count": null,
   "metadata": {
    "collapsed": false
   },
   "outputs": [],
   "source": [
    "labeller.label_data"
   ]
  }
 ],
 "metadata": {
  "kernelspec": {
   "display_name": "Python 2",
   "language": "python",
   "name": "python2"
  },
  "language_info": {
   "codemirror_mode": {
    "name": "ipython",
    "version": 2
   },
   "file_extension": ".py",
   "mimetype": "text/x-python",
   "name": "python",
   "nbconvert_exporter": "python",
   "pygments_lexer": "ipython2",
   "version": "2.7.8"
  }
 },
 "nbformat": 4,
 "nbformat_minor": 0
}
