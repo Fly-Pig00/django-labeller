{
 "cells": [
  {
   "cell_type": "markdown",
   "metadata": {},
   "source": [
    "#Image labeller with persistence (example)\n",
    "\n",
    "This notebook will demonstrate the follwing:\n",
    "\n",
    "- using the image labelling tool as an IPython Notebook plugin\n",
    "- rendering labels to create edge maps and label images\n",
    "- extracting images of individual objects\n",
    "\n",
    "It will also describe the label JSON file format."
   ]
  },
  {
   "cell_type": "code",
   "execution_count": null,
   "metadata": {
    "collapsed": false
   },
   "outputs": [],
   "source": [
    "%matplotlib inline\n",
    "\n",
    "import math\n",
    "\n",
    "from matplotlib import pyplot as plt\n",
    "\n",
    "from IPython.display import display\n",
    "\n",
    "import labelling_tool, labelling_tool_ipython"
   ]
  },
  {
   "cell_type": "markdown",
   "metadata": {},
   "source": [
    "##Client side widget\n",
    "\n",
    "Here is the client side widget implementation:"
   ]
  },
  {
   "cell_type": "code",
   "execution_count": null,
   "metadata": {
    "collapsed": false
   },
   "outputs": [],
   "source": [
    "%%javascript\n",
    "\n",
    "require([\"widgets/js/widget\",\n",
    "         \"widgets/js/manager\",\n",
    "         \"http://d3js.org/d3.v3.min.js\",\n",
    "         \"static/labelling_tool.js\"], function(widget, manager){\n",
    "    /*\n",
    "    Labeling tool view; links to the server side data structures\n",
    "     */\n",
    "    var ImageLabellingToolView = widget.DOMWidgetView.extend({\n",
    "        render: function() {\n",
    "            var self = this;\n",
    "\n",
    "            // Register a custom IPython widget message handler for receiving messages from the Kernel\n",
    "            this.model.on('msg:custom', this._on_custom_msg, this);\n",
    "\n",
    "\n",
    "            // Get label classes, tool dimensions, and image ID set and initial image ID from the kernel\n",
    "            var label_classes = self.model.get(\"label_classes\");\n",
    "            var tool_width = self.model.get(\"tool_width_\");\n",
    "            var tool_height = self.model.get(\"tool_height_\");\n",
    "            var image_ids = self.model.get('image_ids_');\n",
    "            var initial_image_id = self.model.get('current_image_id_');\n",
    "\n",
    "\n",
    "            // Callback function to allow the labelling tool to request an image\n",
    "            var request_image_descriptor = function(image_id_str) {\n",
    "                // Send a 'request_image_descriptor' message to the kernel requesting the\n",
    "                // image identified by `image_id_str`\n",
    "                self.send({msg_type: 'request_image_descriptor', image_id: image_id_str});\n",
    "            };\n",
    "\n",
    "            // Callback function to allow the labelling tool to send modified label data to the kernel\n",
    "            var send_label_header = function(label_header) {\n",
    "                // Send a 'label_header' message to the kernel, along with modified label data\n",
    "                self.send({msg_type: 'label_header', label_header: label_header});\n",
    "            };\n",
    "\n",
    "            // Create the labelling tool\n",
    "            self._labeling_tool = LabellingTool();\n",
    "            // Initialise it, placing it into the widget element (`this.$el`).\n",
    "            // Also give it the label classes, tool dimensions, image ID set, initial image ID and the callbacks above\n",
    "            self._labeling_tool.initialise(this.$el, label_classes, tool_width, tool_height,\n",
    "                                            image_ids, initial_image_id, request_image_descriptor, send_label_header);\n",
    "        },\n",
    "\n",
    "\n",
    "        _on_custom_msg: function(msg) {\n",
    "            // Received a custom message from the kernel\n",
    "            if (msg.msg_type === \"set_image\") {\n",
    "                // 'set_image' message\n",
    "                var in_image = msg.image;\n",
    "                // Build the image descriptor to give to the labelling tool\n",
    "                var image = {\n",
    "                    width: in_image.width,\n",
    "                    height: in_image.height,\n",
    "                    href: in_image.href,\n",
    "                    label_header: in_image.label_header\n",
    "                };\n",
    "                // Make the labelling tool switch images\n",
    "                this._labeling_tool.setImage(image);\n",
    "            }\n",
    "        }\n",
    "    });\n",
    "\n",
    "    // Register the ImageLabelingToolView with the IPython widget manager.\n",
    "    manager.WidgetManager.register_widget_view('ImageLabellingToolView', ImageLabellingToolView);\n",
    "    console.log(\"registered\");\n",
    "});\n"
   ]
  },
  {
   "cell_type": "markdown",
   "metadata": {},
   "source": [
    "##Example tool\n",
    "\n",
    "The kernel-side widget model is defined in the `ImageLabellingTool` class in the `labelling_tool` module."
   ]
  },
  {
   "cell_type": "code",
   "execution_count": null,
   "metadata": {
    "collapsed": false
   },
   "outputs": [],
   "source": [
    "# Specify our 3 label classes.\n",
    "# `LabelClass` parameters are: symbolic name, human readable name for UI, and RGB colour as list\n",
    "label_classes = [labelling_tool.LabelClass('tree', 'Trees', [0, 255, 192]),\n",
    "                 labelling_tool.LabelClass('building', 'Buldings', [255, 128, 0]),\n",
    "                 labelling_tool.LabelClass('lake', 'Lake', [0, 128, 255]),\n",
    "                 ]\n",
    "\n",
    "# Define the tool dimensions\n",
    "TOOL_WIDTH, TOOL_HEIGHT = 980, 480\n",
    "\n",
    "# Load in .JPG images from the 'images' directory.\n",
    "labelled_images = labelling_tool.PersistentLabelledImage.for_directory('images', image_filename_pattern='*.jpg')\n",
    "print 'Loaded {0} images'.format(len(labelled_images))\n",
    "\n",
    "# Create the labelling tool IPython widget and display it\n",
    "labeller = labelling_tool_ipython.ImageLabellingTool(labelled_images=labelled_images, label_classes=label_classes,\n",
    "                                                     tool_width=TOOL_WIDTH, tool_height=TOOL_HEIGHT)\n",
    "\n",
    "display(labeller)"
   ]
  },
  {
   "cell_type": "markdown",
   "metadata": {},
   "source": [
    "###Instructions for use\n",
    "\n",
    "To navigate between images:\n",
    "\n",
    "- Using the left and right arrows to navigate the images one by one\n",
    "- Enter a number in the box at the top to navigate to a specific image\n",
    "\n",
    "To move around images:\n",
    "\n",
    "- Left-click drag to move the image\n",
    "- Use the scroll wheel (on a mouse) or a two-finger gesture (on a tablet) to zoom\n",
    "\n",
    "To label regions of the image:\n",
    "\n",
    "- **Drawing regions onto the image:**\n",
    "  - Click the *Draw poly* button\n",
    "  - Within the image pane, left-click to draw polygonal corners of your region\n",
    "  - When you have finished the region, right-click to stop\n",
    "  - You are still in *draw poly* mode, so you can start left-clicking again to draw the next region\n",
    "  - To exit *draw poly* mode, right-click a second time.\n",
    "  - If you make a mistake, delete the region and re-draw it; see below\n",
    "- **Selecting regions:**\n",
    "  - Selected regions have a red outline, yellow otherwise\n",
    "  - If only *one* region is selected, clicking the *Draw poly* button will allow you to modify it; you will go back to *draw poly* mode\n",
    "  - To select a different region, click the *Select* button and choose a different region by clicking on it. Multiple regions can be selected by holding *SHIFT* while clicking.\n",
    "- **Deleting regions:**\n",
    "  - Select regions using the select tool (see above)\n",
    "  - Click the wastebin button to delete them; you will be asked for confirmation\n",
    "- **Changing the label of a region:**\n",
    "  - Select regions using the select tool (see above)\n",
    "  - Use the drop-down (normally reads *UNCLASSIFIED*) within the *Labels* section to change the label\n",
    "- **If the coloured regions are obscuring parts of the image that you need to see:**\n",
    "  - Within the *Labels* section, click the *Hide labels* checkbox to hide the labels\n",
    "  - Uncheck it to show them afterwards\n",
    "- **When you are done:**\n",
    "  - When you are satisfied that you have marked out all of the regions of interest and that they are correctly labelled, click the *Finished* checkbox within the *Current image* section. This will mark the image as finished within the system."
   ]
  },
  {
   "cell_type": "markdown",
   "metadata": {},
   "source": [
    "## Using the label data\n",
    "\n",
    "You can either render the labels with the provided code or read the JSON label data directly."
   ]
  },
  {
   "cell_type": "markdown",
   "metadata": {},
   "source": [
    "### Render the labels\n",
    "\n",
    "First, get the second image that comes with some labels pre-defined:"
   ]
  },
  {
   "cell_type": "code",
   "execution_count": null,
   "metadata": {
    "collapsed": false
   },
   "outputs": [],
   "source": [
    "labelled_img = labelled_images[1]"
   ]
  },
  {
   "cell_type": "markdown",
   "metadata": {},
   "source": [
    "#### Rendering label masks by label class\n",
    "\n",
    "As seen in the *Example Tool* cell above we have three classes; `tree`, `building` and `lake`.\n",
    "\n",
    "The `label_classes` parameter describes the classes to render. For example, lets render all the labels trees:"
   ]
  },
  {
   "cell_type": "code",
   "execution_count": null,
   "metadata": {
    "collapsed": false
   },
   "outputs": [],
   "source": [
    "labels_2d = labelled_img.render_labels(label_classes=['tree', 'building', 'lake'], pixels_as_vectors=False)\n",
    "plt.imshow(labels_2d, cmap='gray')\n",
    "plt.show()"
   ]
  },
  {
   "cell_type": "markdown",
   "metadata": {},
   "source": [
    "Re-ordering changes the label values:"
   ]
  },
  {
   "cell_type": "code",
   "execution_count": null,
   "metadata": {
    "collapsed": false
   },
   "outputs": [],
   "source": [
    "labels_2d = labelled_img.render_labels(label_classes=['lake', 'building', 'tree'], pixels_as_vectors=False)\n",
    "plt.imshow(labels_2d, cmap='gray')\n",
    "plt.show()"
   ]
  },
  {
   "cell_type": "markdown",
   "metadata": {},
   "source": [
    "You can render a subset of the labels used in the image; just the trees:"
   ]
  },
  {
   "cell_type": "code",
   "execution_count": null,
   "metadata": {
    "collapsed": false
   },
   "outputs": [],
   "source": [
    "labels_2d = labelled_img.render_labels(['tree'], pixels_as_vectors=False)\n",
    "plt.imshow(labels_2d, cmap='gray')\n",
    "plt.show()"
   ]
  },
  {
   "cell_type": "markdown",
   "metadata": {},
   "source": [
    "Each item in `label_classes` can also be a list of classes. This will result in the same value being used for multiple classes in the image. Lets render the natural featues - lake and trees - as one value and the non-natural - buildings - as another:"
   ]
  },
  {
   "cell_type": "code",
   "execution_count": null,
   "metadata": {
    "collapsed": false
   },
   "outputs": [],
   "source": [
    "labels_2d = labelled_img.render_labels(label_classes=[['tree', 'lake'], 'building'], pixels_as_vectors=False)\n",
    "plt.imshow(labels_2d, cmap='gray')\n",
    "plt.show()"
   ]
  },
  {
   "cell_type": "markdown",
   "metadata": {},
   "source": [
    "Setting the `fill` parameter to `False` results in outlines being rendered:"
   ]
  },
  {
   "cell_type": "code",
   "execution_count": null,
   "metadata": {
    "collapsed": false
   },
   "outputs": [],
   "source": [
    "labels_2d = labelled_img.render_labels(label_classes=['tree', 'building', 'lake'], pixels_as_vectors=False, fill=False)\n",
    "plt.figure(figsize=(8,6))\n",
    "plt.imshow(labels_2d)\n",
    "plt.show()"
   ]
  },
  {
   "cell_type": "markdown",
   "metadata": {},
   "source": [
    "Setting the `pixels_as_vectors` parameter to `True` will result in a multi-channel image in the form of a 3D array. It will have one channel for each item in `label_classes`. Pixels will have either a value of `0` or `1` in a given channel indicating presence of a label in that class:"
   ]
  },
  {
   "cell_type": "code",
   "execution_count": null,
   "metadata": {
    "collapsed": false
   },
   "outputs": [],
   "source": [
    "labels_2dn = labelled_img.render_labels(label_classes=['tree', 'building', 'lake'], pixels_as_vectors=True)\n",
    "plt.figure(figsize=(16,4))\n",
    "# trees\n",
    "plt.subplot(1,3,1)\n",
    "plt.imshow(labels_2dn[:,:,0], cmap='gray')\n",
    "# buildings\n",
    "plt.subplot(1,3,2)\n",
    "plt.imshow(labels_2dn[:,:,1], cmap='gray')\n",
    "# lake\n",
    "plt.subplot(1,3,3)\n",
    "plt.imshow(labels_2dn[:,:,2], cmap='gray')\n",
    "plt.show()"
   ]
  },
  {
   "cell_type": "markdown",
   "metadata": {},
   "source": [
    "#### Rendering label masks by individual label\n",
    "\n",
    "The `render_individual_labels` method assigns a different label value to each individual object. It returns a multi-channel image as a 3D array and a the gives the number of labels in each channel. The `label_classes` parameter functions as with the `render_labels` method."
   ]
  },
  {
   "cell_type": "code",
   "execution_count": null,
   "metadata": {
    "collapsed": false
   },
   "outputs": [],
   "source": [
    "labels_2dn, label_count = labelled_img.render_individual_labels(label_classes=['tree', 'building', 'lake'])\n",
    "print 'Label count={0}'.format(label_count)\n",
    "plt.figure(figsize=(16,4))\n",
    "# trees\n",
    "plt.subplot(1,3,1)\n",
    "plt.imshow(labels_2dn[:,:,0])\n",
    "# buildings\n",
    "plt.subplot(1,3,2)\n",
    "plt.imshow(labels_2dn[:,:,1])\n",
    "# lake\n",
    "plt.subplot(1,3,3)\n",
    "plt.imshow(labels_2dn[:,:,2])\n",
    "plt.show()"
   ]
  },
  {
   "cell_type": "markdown",
   "metadata": {},
   "source": [
    "Setting the `fill` parameter to `False` results in an outline image as before:"
   ]
  },
  {
   "cell_type": "code",
   "execution_count": null,
   "metadata": {
    "collapsed": false
   },
   "outputs": [],
   "source": [
    "# Only render trees so that we can show one large image, otherwise the 1-pixel-wide outlines\n",
    "# will be difficult to see:\n",
    "labels_2dn, label_count = labelled_img.render_individual_labels(label_classes=['tree'],\n",
    "                                                               fill=False)\n",
    "print 'Label count={0}'.format(label_count)\n",
    "plt.figure(figsize=(12,9))\n",
    "plt.imshow(labels_2dn[:,:,0])\n",
    "plt.show()"
   ]
  },
  {
   "cell_type": "markdown",
   "metadata": {},
   "source": [
    "#### Extracting images of labelled objects\n",
    "\n",
    "The `extract_label_images` method extracts the pixels covered by each individual labelled object from the original image. The `label_class_set` parameter specifies the classes of objects that should be rendered; objects whoses classes are not listed are not rendered. It can also be `None` to render all objects of all classes. It returns a list of images:"
   ]
  },
  {
   "cell_type": "code",
   "execution_count": null,
   "metadata": {
    "collapsed": false
   },
   "outputs": [],
   "source": [
    "# Render all objects:\n",
    "object_images = labelled_img.extract_label_images(label_class_set=None)\n",
    "n_cols = 4\n",
    "n_rows = int(math.ceil(float(len(object_images)) / n_cols))\n",
    "plt.figure(figsize=(16,n_rows*3))\n",
    "    \n",
    "for i, img in enumerate(object_images):\n",
    "    plt.subplot(n_rows, n_cols, i + 1)\n",
    "    plt.imshow(img)\n",
    "plt.show()"
   ]
  },
  {
   "cell_type": "markdown",
   "metadata": {},
   "source": [
    "Extract objects separately by class:"
   ]
  },
  {
   "cell_type": "code",
   "execution_count": null,
   "metadata": {
    "collapsed": false
   },
   "outputs": [],
   "source": [
    "for cls in ['tree', 'lake', 'building']:\n",
    "    print 'Extracted objects of class \\'{0}\\':'.format(cls)\n",
    "    object_images = labelled_img.extract_label_images(label_class_set=[cls])\n",
    "    n_cols = 4\n",
    "    n_rows = int(math.ceil(float(len(object_images)) / n_cols))\n",
    "    plt.figure(figsize=(16,n_rows*3))\n",
    "\n",
    "    for i, img in enumerate(object_images):\n",
    "        plt.subplot(n_rows, n_cols, i + 1)\n",
    "        plt.imshow(img)\n",
    "    plt.show()"
   ]
  },
  {
   "cell_type": "markdown",
   "metadata": {},
   "source": [
    "### JSON Label Format\n",
    "\n",
    "The label data is in JSON form. An example file is included in the `images` directory. The format of the file will now be described.\n",
    "\n",
    "```\n",
    "<root>: \n",
    "\n",
    "{\n",
    "    image_filename: <image filename as string>\n",
    "    labels: [\n",
    "        <label_object 0>,\n",
    "        <label_object 1>,\n",
    "        ...\n",
    "        <label_object N>\n",
    "    ]\n",
    "}\n",
    "\n",
    "\n",
    "<label_object -- where label_type=polygon>:\n",
    "{\n",
    "    label_class: <label class as string; identifiers used above to identify label classes>\n",
    "    label_type: 'polygon',\n",
    "    vertices: [\n",
    "        <vertex 0>,\n",
    "        <vertex 1>,\n",
    "        ...\n",
    "        <vertex N>\n",
    "    ]\n",
    "}\n",
    "\n",
    "\n",
    "<vertex>:\n",
    "{\n",
    "    x: <x-co-ordinate as float>,\n",
    "    y: <y-co-ordinate as float>\n",
    "}\n",
    "```\n"
   ]
  }
 ],
 "metadata": {
  "kernelspec": {
   "display_name": "Python 2",
   "language": "python",
   "name": "python2"
  },
  "language_info": {
   "codemirror_mode": {
    "name": "ipython",
    "version": 2
   },
   "file_extension": ".py",
   "mimetype": "text/x-python",
   "name": "python",
   "nbconvert_exporter": "python",
   "pygments_lexer": "ipython2",
   "version": "2.7.9"
  }
 },
 "nbformat": 4,
 "nbformat_minor": 0
}
